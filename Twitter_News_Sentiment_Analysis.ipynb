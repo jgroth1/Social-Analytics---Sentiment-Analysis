{
 "cells": [
  {
   "cell_type": "code",
   "execution_count": 13,
   "metadata": {},
   "outputs": [],
   "source": [
    "import tweepy\n",
    "import pandas as pd\n",
    "import numpy as np\n",
    "import matplotlib.pyplot as plt\n",
    "import seaborn as sns\n",
    "# Import and Initialize Sentiment Analyzer\n",
    "from vaderSentiment.vaderSentiment import SentimentIntensityAnalyzer\n",
    "analyzer = SentimentIntensityAnalyzer()\n",
    "\n",
    "# Twitter API Keys\n",
    "from config import (consumer_key,\n",
    "                    consumer_secret,\n",
    "                    access_token,\n",
    "                    access_token_secret)\n",
    "\n",
    "# Setup Tweepy API Authentication\n",
    "auth = tweepy.OAuthHandler(consumer_key, consumer_secret)\n",
    "auth.set_access_token(access_token, access_token_secret)\n",
    "api = tweepy.API(auth, parser=tweepy.parsers.JSONParser())"
   ]
  },
  {
   "cell_type": "code",
   "execution_count": 2,
   "metadata": {},
   "outputs": [],
   "source": [
    "Target_Users = ['@BBC', '@CBS', '@CNN', '@FoxNews', '@nytimes']\n",
    "sentiment_dict = {}\n",
    "for user in Target_Users:\n",
    "    # Target User Account\n",
    "    target_user = user\n",
    "\n",
    "    # Variables for holding sentiments\n",
    "    compound_list = []\n",
    "    positive_list = []\n",
    "    negative_list = []\n",
    "    neutral_list = []\n",
    "\n",
    "    # Loop through 10 pages of tweets (total 200 tweets)\n",
    "    for x in range(1, 6):\n",
    "\n",
    "        # Get all tweets from home feed\n",
    "        public_tweets = api.user_timeline(target_user, page=x)\n",
    "\n",
    "        # Loop through all tweets\n",
    "        for tweet in public_tweets:\n",
    "\n",
    "            # Run Vader Analysis on each tweet\n",
    "            results = analyzer.polarity_scores(tweet[\"text\"])\n",
    "            compound = results[\"compound\"]\n",
    "            pos = results[\"pos\"]\n",
    "            neu = results[\"neu\"]\n",
    "            neg = results[\"neg\"]\n",
    "\n",
    "            # Add each value to the appropriate list\n",
    "            compound_list.append(compound)\n",
    "            positive_list.append(pos)\n",
    "            negative_list.append(neg)\n",
    "            neutral_list.append(neu)\n",
    "    \n",
    "    # create keys\n",
    "    key_compound = user + '_compound'\n",
    "    key_positive = user + '_positive'\n",
    "    key_negative = user + '_negative'\n",
    "    key_neutral = user + '_neutral'\n",
    "    \n",
    "    # store list in dictionary\n",
    "    sentiment_dict[key_compound] = compound_list\n",
    "    sentiment_dict[key_positive] = positive_list\n",
    "    sentiment_dict[key_negative] = negative_list\n",
    "    sentiment_dict[key_neutral] = neutral_list"
   ]
  },
  {
   "cell_type": "code",
   "execution_count": 11,
   "metadata": {},
   "outputs": [
    {
     "data": {
      "text/html": [
       "<div>\n",
       "<style scoped>\n",
       "    .dataframe tbody tr th:only-of-type {\n",
       "        vertical-align: middle;\n",
       "    }\n",
       "\n",
       "    .dataframe tbody tr th {\n",
       "        vertical-align: top;\n",
       "    }\n",
       "\n",
       "    .dataframe thead th {\n",
       "        text-align: right;\n",
       "    }\n",
       "</style>\n",
       "<table border=\"1\" class=\"dataframe\">\n",
       "  <thead>\n",
       "    <tr style=\"text-align: right;\">\n",
       "      <th></th>\n",
       "      <th>Tweet_order</th>\n",
       "      <th>@BBC_compound</th>\n",
       "      <th>@BBC_positive</th>\n",
       "      <th>@BBC_negative</th>\n",
       "      <th>@BBC_neutral</th>\n",
       "      <th>@CBS_compound</th>\n",
       "      <th>@CBS_positive</th>\n",
       "      <th>@CBS_negative</th>\n",
       "      <th>@CBS_neutral</th>\n",
       "      <th>@CNN_compound</th>\n",
       "      <th>...</th>\n",
       "      <th>@CNN_negative</th>\n",
       "      <th>@CNN_neutral</th>\n",
       "      <th>@FoxNews_compound</th>\n",
       "      <th>@FoxNews_positive</th>\n",
       "      <th>@FoxNews_negative</th>\n",
       "      <th>@FoxNews_neutral</th>\n",
       "      <th>@nytimes_compound</th>\n",
       "      <th>@nytimes_positive</th>\n",
       "      <th>@nytimes_negative</th>\n",
       "      <th>@nytimes_neutral</th>\n",
       "    </tr>\n",
       "  </thead>\n",
       "  <tbody>\n",
       "    <tr>\n",
       "      <th>0</th>\n",
       "      <td>0</td>\n",
       "      <td>0.1967</td>\n",
       "      <td>0.095</td>\n",
       "      <td>0.000</td>\n",
       "      <td>0.905</td>\n",
       "      <td>0.5562</td>\n",
       "      <td>0.174</td>\n",
       "      <td>0.000</td>\n",
       "      <td>0.826</td>\n",
       "      <td>0.0000</td>\n",
       "      <td>...</td>\n",
       "      <td>0.000</td>\n",
       "      <td>1.000</td>\n",
       "      <td>0.6124</td>\n",
       "      <td>0.227</td>\n",
       "      <td>0.000</td>\n",
       "      <td>0.773</td>\n",
       "      <td>-0.7650</td>\n",
       "      <td>0.000</td>\n",
       "      <td>0.280</td>\n",
       "      <td>0.720</td>\n",
       "    </tr>\n",
       "    <tr>\n",
       "      <th>1</th>\n",
       "      <td>-1</td>\n",
       "      <td>0.0000</td>\n",
       "      <td>0.000</td>\n",
       "      <td>0.000</td>\n",
       "      <td>1.000</td>\n",
       "      <td>0.5411</td>\n",
       "      <td>0.143</td>\n",
       "      <td>0.000</td>\n",
       "      <td>0.857</td>\n",
       "      <td>0.0000</td>\n",
       "      <td>...</td>\n",
       "      <td>0.000</td>\n",
       "      <td>1.000</td>\n",
       "      <td>-0.8910</td>\n",
       "      <td>0.000</td>\n",
       "      <td>0.492</td>\n",
       "      <td>0.508</td>\n",
       "      <td>0.0000</td>\n",
       "      <td>0.000</td>\n",
       "      <td>0.000</td>\n",
       "      <td>1.000</td>\n",
       "    </tr>\n",
       "    <tr>\n",
       "      <th>2</th>\n",
       "      <td>-2</td>\n",
       "      <td>-0.1027</td>\n",
       "      <td>0.000</td>\n",
       "      <td>0.065</td>\n",
       "      <td>0.935</td>\n",
       "      <td>0.0000</td>\n",
       "      <td>0.000</td>\n",
       "      <td>0.000</td>\n",
       "      <td>1.000</td>\n",
       "      <td>-0.1280</td>\n",
       "      <td>...</td>\n",
       "      <td>0.118</td>\n",
       "      <td>0.786</td>\n",
       "      <td>-0.8020</td>\n",
       "      <td>0.000</td>\n",
       "      <td>0.286</td>\n",
       "      <td>0.714</td>\n",
       "      <td>-0.3506</td>\n",
       "      <td>0.060</td>\n",
       "      <td>0.177</td>\n",
       "      <td>0.764</td>\n",
       "    </tr>\n",
       "    <tr>\n",
       "      <th>3</th>\n",
       "      <td>-3</td>\n",
       "      <td>0.3612</td>\n",
       "      <td>0.122</td>\n",
       "      <td>0.000</td>\n",
       "      <td>0.878</td>\n",
       "      <td>-0.3818</td>\n",
       "      <td>0.000</td>\n",
       "      <td>0.106</td>\n",
       "      <td>0.894</td>\n",
       "      <td>-0.5267</td>\n",
       "      <td>...</td>\n",
       "      <td>0.175</td>\n",
       "      <td>0.825</td>\n",
       "      <td>0.0000</td>\n",
       "      <td>0.000</td>\n",
       "      <td>0.000</td>\n",
       "      <td>1.000</td>\n",
       "      <td>0.9118</td>\n",
       "      <td>0.426</td>\n",
       "      <td>0.000</td>\n",
       "      <td>0.574</td>\n",
       "    </tr>\n",
       "    <tr>\n",
       "      <th>4</th>\n",
       "      <td>-4</td>\n",
       "      <td>-0.2960</td>\n",
       "      <td>0.000</td>\n",
       "      <td>0.306</td>\n",
       "      <td>0.694</td>\n",
       "      <td>0.3182</td>\n",
       "      <td>0.103</td>\n",
       "      <td>0.000</td>\n",
       "      <td>0.897</td>\n",
       "      <td>-0.1280</td>\n",
       "      <td>...</td>\n",
       "      <td>0.170</td>\n",
       "      <td>0.638</td>\n",
       "      <td>0.0772</td>\n",
       "      <td>0.064</td>\n",
       "      <td>0.000</td>\n",
       "      <td>0.936</td>\n",
       "      <td>-0.3612</td>\n",
       "      <td>0.000</td>\n",
       "      <td>0.238</td>\n",
       "      <td>0.762</td>\n",
       "    </tr>\n",
       "  </tbody>\n",
       "</table>\n",
       "<p>5 rows × 21 columns</p>\n",
       "</div>"
      ],
      "text/plain": [
       "   Tweet_order  @BBC_compound  @BBC_positive  @BBC_negative  @BBC_neutral  \\\n",
       "0            0         0.1967          0.095          0.000         0.905   \n",
       "1           -1         0.0000          0.000          0.000         1.000   \n",
       "2           -2        -0.1027          0.000          0.065         0.935   \n",
       "3           -3         0.3612          0.122          0.000         0.878   \n",
       "4           -4        -0.2960          0.000          0.306         0.694   \n",
       "\n",
       "   @CBS_compound  @CBS_positive  @CBS_negative  @CBS_neutral  @CNN_compound  \\\n",
       "0         0.5562          0.174          0.000         0.826         0.0000   \n",
       "1         0.5411          0.143          0.000         0.857         0.0000   \n",
       "2         0.0000          0.000          0.000         1.000        -0.1280   \n",
       "3        -0.3818          0.000          0.106         0.894        -0.5267   \n",
       "4         0.3182          0.103          0.000         0.897        -0.1280   \n",
       "\n",
       "         ...         @CNN_negative  @CNN_neutral  @FoxNews_compound  \\\n",
       "0        ...                 0.000         1.000             0.6124   \n",
       "1        ...                 0.000         1.000            -0.8910   \n",
       "2        ...                 0.118         0.786            -0.8020   \n",
       "3        ...                 0.175         0.825             0.0000   \n",
       "4        ...                 0.170         0.638             0.0772   \n",
       "\n",
       "   @FoxNews_positive  @FoxNews_negative  @FoxNews_neutral  @nytimes_compound  \\\n",
       "0              0.227              0.000             0.773            -0.7650   \n",
       "1              0.000              0.492             0.508             0.0000   \n",
       "2              0.000              0.286             0.714            -0.3506   \n",
       "3              0.000              0.000             1.000             0.9118   \n",
       "4              0.064              0.000             0.936            -0.3612   \n",
       "\n",
       "   @nytimes_positive  @nytimes_negative  @nytimes_neutral  \n",
       "0              0.000              0.280             0.720  \n",
       "1              0.000              0.000             1.000  \n",
       "2              0.060              0.177             0.764  \n",
       "3              0.426              0.000             0.574  \n",
       "4              0.000              0.238             0.762  \n",
       "\n",
       "[5 rows x 21 columns]"
      ]
     },
     "execution_count": 11,
     "metadata": {},
     "output_type": "execute_result"
    }
   ],
   "source": [
    "# store dict in data frame\n",
    "Sentiment_DF = pd.DataFrame(sentiment_dict)\n",
    "Sentiment_DF.reset_index(inplace=True)\n",
    "\n",
    "# define order of tweets\n",
    "Sentiment_DF['index'] = Sentiment_DF['index'].apply(lambda x: (x) * -1)\n",
    "Sentiment_DF = Sentiment_DF.rename(columns={'index': 'Tweet_order'})\n",
    "Sentiment_DF.head()"
   ]
  },
  {
   "cell_type": "code",
   "execution_count": 59,
   "metadata": {},
   "outputs": [
    {
     "data": {
      "image/png": "[encoded data removed]",
      "text/plain": [
       "<matplotlib.figure.Figure at 0x10c9adf28>"
      ]
     },
     "metadata": {},
     "output_type": "display_data"
    }
   ],
   "source": [
    "ax1 = plt.subplot()\n",
    "Sentiment_DF.plot(x='Tweet_order', y='@BBC_compound', kind='scatter', ax=ax1)\n",
    "ax1.set_xlabel('Tweet Order')\n",
    "ax1.set_ylabel('Tweet Polarity')\n",
    "ax1.set_title('BBC Tweet Sentiment for Last 100 Tweets')\n",
    "ax1.grid()\n",
    "ax1.set_facecolor('0.9')\n",
    "plt.savefig('BBC_Sentiment.png')\n",
    "plt.show()"
   ]
  },
  {
   "cell_type": "code",
   "execution_count": 60,
   "metadata": {},
   "outputs": [
    {
     "data": {
      "image/png": "[encoded data removed]",
      "text/plain": [
       "<matplotlib.figure.Figure at 0x10d0af240>"
      ]
     },
     "metadata": {},
     "output_type": "display_data"
    }
   ],
   "source": [
    "ax1 = plt.subplot()\n",
    "Sentiment_DF.plot(x='Tweet_order', y='@CBS_compound', kind='scatter', ax=ax1)\n",
    "ax1.set_xlabel('Tweet Order')\n",
    "ax1.set_ylabel('Tweet Polarity')\n",
    "ax1.set_title('CBS Tweet Sentiment for Last 100 Tweets')\n",
    "ax1.grid()\n",
    "ax1.set_facecolor('0.9')\n",
    "plt.savefig('CBS_Sentiment.png')\n",
    "plt.show()"
   ]
  },
  {
   "cell_type": "code",
   "execution_count": 61,
   "metadata": {},
   "outputs": [
    {
     "data": {
      "image/png": "[encoded data removed]",
      "text/plain": [
       "<matplotlib.figure.Figure at 0x10c8b6940>"
      ]
     },
     "metadata": {},
     "output_type": "display_data"
    }
   ],
   "source": [
    "ax1 = plt.subplot()\n",
    "Sentiment_DF.plot(x='Tweet_order', y='@CNN_compound', kind='scatter', ax=ax1)\n",
    "ax1.set_xlabel('Tweet Order')\n",
    "ax1.set_ylabel('Tweet Polarity')\n",
    "ax1.set_title('CNN Tweet Sentiment for Last 100 Tweets')\n",
    "ax1.grid()\n",
    "ax1.set_facecolor('0.9')\n",
    "plt.savefig('CNN_Sentiment.png')\n",
    "plt.show()"
   ]
  },
  {
   "cell_type": "code",
   "execution_count": 62,
   "metadata": {},
   "outputs": [
    {
     "data": {
      "image/png": "[encoded data removed]",
      "text/plain": [
       "<matplotlib.figure.Figure at 0x10cc010b8>"
      ]
     },
     "metadata": {},
     "output_type": "display_data"
    }
   ],
   "source": [
    "ax1 = plt.subplot()\n",
    "Sentiment_DF.plot(x='Tweet_order', y='@FoxNews_compound', kind='scatter', ax=ax1)\n",
    "ax1.set_xlabel('Tweet Order')\n",
    "ax1.set_ylabel('Tweet Polarity')\n",
    "ax1.set_title('Fox News Tweet Sentiment for Last 100 Tweets')\n",
    "ax1.grid()\n",
    "ax1.set_facecolor('0.9')\n",
    "plt.savefig('FoxNews_Sentiment.png')\n",
    "plt.show()"
   ]
  },
  {
   "cell_type": "code",
   "execution_count": 63,
   "metadata": {},
   "outputs": [
    {
     "data": {
      "image/png": "[encoded data removed]",
      "text/plain": [
       "<matplotlib.figure.Figure at 0x108c7cb70>"
      ]
     },
     "metadata": {},
     "output_type": "display_data"
    }
   ],
   "source": [
    "ax1 = plt.subplot()\n",
    "Sentiment_DF.plot(x='Tweet_order', y='@nytimes_compound', kind='scatter', ax=ax1)\n",
    "ax1.set_xlabel('Tweet Order')\n",
    "ax1.set_ylabel('Tweet Polarity')\n",
    "ax1.set_title('New York Times Tweet Sentiment for Last 100 Tweets')\n",
    "ax1.grid()\n",
    "ax1.set_facecolor('0.9')\n",
    "plt.savefig('NYT_Sentiment.png')\n",
    "plt.show()"
   ]
  },
  {
   "cell_type": "code",
   "execution_count": 35,
   "metadata": {},
   "outputs": [
    {
     "data": {
      "text/plain": [
       "@BBC_compound        0.168053\n",
       "@CBS_compound        0.355199\n",
       "@CNN_compound       -0.008016\n",
       "@FoxNews_compound   -0.001384\n",
       "@nytimes_compound    0.012831\n",
       "dtype: float64"
      ]
     },
     "execution_count": 35,
     "metadata": {},
     "output_type": "execute_result"
    }
   ],
   "source": [
    "avg_sentiment = Sentiment_DF.mean()\n",
    "avg_sentiment = avg_sentiment.filter(regex='compound$')\n",
    "avg_sentiment"
   ]
  },
  {
   "cell_type": "code",
   "execution_count": 64,
   "metadata": {},
   "outputs": [
    {
     "data": {
      "image/png": "[encoded data removed]",
      "text/plain": [
       "<matplotlib.figure.Figure at 0x10c97af28>"
      ]
     },
     "metadata": {},
     "output_type": "display_data"
    }
   ],
   "source": [
    "plt.hlines(0, -1, 5, linestyles='dotted')\n",
    "ticks = ['BBC', 'CBS','CNN', 'Fox News', 'NYT']\n",
    "plt.bar(x=ticks, height=avg_sentiment, color=['xkcd:sky blue', 'green', 'red', 'blue', 'yellow'], edgecolor='k', linewidth=2)\n",
    "plt.xlabel('News Channel')\n",
    "plt.ylabel('Tweet Polarity')\n",
    "plt.title('Average Tweet Sentiment by News Channel')\n",
    "plt.savefig('Avg_News_Sentiment.png')\n",
    "plt.show()"
   ]
  },
  {
   "cell_type": "code",
   "execution_count": 56,
   "metadata": {},
   "outputs": [
    {
     "data": {
      "text/html": [
       "<div>\n",
       "<style scoped>\n",
       "    .dataframe tbody tr th:only-of-type {\n",
       "        vertical-align: middle;\n",
       "    }\n",
       "\n",
       "    .dataframe tbody tr th {\n",
       "        vertical-align: top;\n",
       "    }\n",
       "\n",
       "    .dataframe thead th {\n",
       "        text-align: right;\n",
       "    }\n",
       "</style>\n",
       "<table border=\"1\" class=\"dataframe\">\n",
       "  <thead>\n",
       "    <tr style=\"text-align: right;\">\n",
       "      <th></th>\n",
       "      <th>@BBC_compound</th>\n",
       "      <th>@CBS_compound</th>\n",
       "      <th>@CNN_compound</th>\n",
       "      <th>@FoxNews_compound</th>\n",
       "      <th>@nytimes_compound</th>\n",
       "    </tr>\n",
       "  </thead>\n",
       "  <tbody>\n",
       "    <tr>\n",
       "      <th>0</th>\n",
       "      <td>0.1967</td>\n",
       "      <td>0.5562</td>\n",
       "      <td>0.0000</td>\n",
       "      <td>0.6124</td>\n",
       "      <td>-0.7650</td>\n",
       "    </tr>\n",
       "    <tr>\n",
       "      <th>1</th>\n",
       "      <td>0.0000</td>\n",
       "      <td>0.5411</td>\n",
       "      <td>0.0000</td>\n",
       "      <td>-0.8910</td>\n",
       "      <td>0.0000</td>\n",
       "    </tr>\n",
       "    <tr>\n",
       "      <th>2</th>\n",
       "      <td>-0.1027</td>\n",
       "      <td>0.0000</td>\n",
       "      <td>-0.1280</td>\n",
       "      <td>-0.8020</td>\n",
       "      <td>-0.3506</td>\n",
       "    </tr>\n",
       "    <tr>\n",
       "      <th>3</th>\n",
       "      <td>0.3612</td>\n",
       "      <td>-0.3818</td>\n",
       "      <td>-0.5267</td>\n",
       "      <td>0.0000</td>\n",
       "      <td>0.9118</td>\n",
       "    </tr>\n",
       "    <tr>\n",
       "      <th>4</th>\n",
       "      <td>-0.2960</td>\n",
       "      <td>0.3182</td>\n",
       "      <td>-0.1280</td>\n",
       "      <td>0.0772</td>\n",
       "      <td>-0.3612</td>\n",
       "    </tr>\n",
       "  </tbody>\n",
       "</table>\n",
       "</div>"
      ],
      "text/plain": [
       "   @BBC_compound  @CBS_compound  @CNN_compound  @FoxNews_compound  \\\n",
       "0         0.1967         0.5562         0.0000             0.6124   \n",
       "1         0.0000         0.5411         0.0000            -0.8910   \n",
       "2        -0.1027         0.0000        -0.1280            -0.8020   \n",
       "3         0.3612        -0.3818        -0.5267             0.0000   \n",
       "4        -0.2960         0.3182        -0.1280             0.0772   \n",
       "\n",
       "   @nytimes_compound  \n",
       "0            -0.7650  \n",
       "1             0.0000  \n",
       "2            -0.3506  \n",
       "3             0.9118  \n",
       "4            -0.3612  "
      ]
     },
     "execution_count": 56,
     "metadata": {},
     "output_type": "execute_result"
    }
   ],
   "source": [
    "Sentiment_Compound_DF = Sentiment_DF.filter(regex='compound$', axis=1)\n",
    "Sentiment_Compound_DF.head()"
   ]
  },
  {
   "cell_type": "code",
   "execution_count": 57,
   "metadata": {},
   "outputs": [],
   "source": [
    "Sentiment_Compound_DF.to_csv('Sentiment_Compound.csv')"
   ]
  },
  {
   "cell_type": "code",
   "execution_count": null,
   "metadata": {},
   "outputs": [],
   "source": []
  }
 ],
 "metadata": {
  "kernelspec": {
   "display_name": "Python 3",
   "language": "python",
   "name": "python3"
  },
  "language_info": {
   "codemirror_mode": {
    "name": "ipython",
    "version": 3
   },
   "file_extension": ".py",
   "mimetype": "text/x-python",
   "name": "python",
   "nbconvert_exporter": "python",
   "pygments_lexer": "ipython3",
   "version": "3.6.4"
  }
 },
 "nbformat": 4,
 "nbformat_minor": 2
}
